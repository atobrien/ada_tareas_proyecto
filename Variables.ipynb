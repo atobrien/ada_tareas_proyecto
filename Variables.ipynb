{
  "nbformat": 4,
  "nbformat_minor": 0,
  "metadata": {
    "colab": {
      "name": "Variables.ipynb",
      "provenance": [],
      "collapsed_sections": []
    },
    "kernelspec": {
      "name": "python3",
      "display_name": "Python 3"
    },
    "language_info": {
      "name": "python"
    }
  },
  "cells": [
    {
      "cell_type": "markdown",
      "metadata": {
        "id": "Uv8iNU3Pw5gy"
      },
      "source": [
        "# Variables"
      ]
    },
    {
      "cell_type": "markdown",
      "metadata": {
        "id": "_Fyoms6Kw9Y_"
      },
      "source": [
        "## Asignación de variables\n",
        "para asignar un valor a una variable, solo debemos usar el operador \"=\""
      ]
    },
    {
      "cell_type": "code",
      "metadata": {
        "id": "wVdul6AZw40a"
      },
      "source": [
        "nombre = \"Ariel\"\n",
        "edad = 23\n",
        "fuma = False\n",
        "\n",
        "# estatura en metros\n",
        "estatura = 1.8"
      ],
      "execution_count": null,
      "outputs": []
    },
    {
      "cell_type": "code",
      "metadata": {
        "colab": {
          "base_uri": "https://localhost:8080/"
        },
        "id": "AQXWaud4w9SH",
        "outputId": "41271ff7-c3f8-475e-b52f-8daee41dd74f"
      },
      "source": [
        "print(\"nombre\", nombre)\n",
        "print(\"edad\", edad)\n",
        "print(\"fuma\", fuma)\n",
        "print(\"estatura\", estatura, \"m\")"
      ],
      "execution_count": null,
      "outputs": [
        {
          "output_type": "stream",
          "text": [
            "nombre Ariel\n",
            "edad 23\n",
            "fuma False\n",
            "estatura 1.8 m\n"
          ],
          "name": "stdout"
        }
      ]
    },
    {
      "cell_type": "code",
      "metadata": {
        "colab": {
          "base_uri": "https://localhost:8080/"
        },
        "id": "GuSUqp-9KEfS",
        "outputId": "d3aa6a7c-ef1e-4692-acfd-c3321d8189db"
      },
      "source": [
        "x = 123\n",
        "print(type(x))\n",
        "\n",
        "x = 3.123\n",
        "print(type(\"asdfasd\"))"
      ],
      "execution_count": null,
      "outputs": [
        {
          "output_type": "stream",
          "name": "stdout",
          "text": [
            "<class 'int'>\n",
            "<class 'str'>\n"
          ]
        }
      ]
    },
    {
      "cell_type": "code",
      "metadata": {
        "colab": {
          "base_uri": "https://localhost:8080/"
        },
        "id": "7NW6g8ro-Pmr",
        "outputId": "3a164fbb-08e6-4028-c694-fdc9d4fb0b0e"
      },
      "source": [
        "print(\"nombre\", type(nombre))\n",
        "print(\"edad\", type(edad))\n",
        "print(\"fuma\", type(fuma))\n",
        "print(\"estatura\", type(estatura))"
      ],
      "execution_count": null,
      "outputs": [
        {
          "output_type": "stream",
          "name": "stdout",
          "text": [
            "nombre <class 'str'>\n",
            "edad <class 'int'>\n",
            "fuma <class 'bool'>\n",
            "estatura <class 'float'>\n"
          ]
        }
      ]
    },
    {
      "cell_type": "code",
      "metadata": {
        "id": "yKeXMwAIyPx4"
      },
      "source": [
        ""
      ],
      "execution_count": null,
      "outputs": []
    },
    {
      "cell_type": "markdown",
      "metadata": {
        "id": "oW5Mtks7w9b1"
      },
      "source": [
        "## Enteros int\n",
        "Los enteros siguen las mismas reglas que en las matemáticas"
      ]
    },
    {
      "cell_type": "code",
      "metadata": {
        "colab": {
          "base_uri": "https://localhost:8080/"
        },
        "id": "ZPFIupfWw__f",
        "outputId": "ddb242e9-b65d-49ee-bdc1-8ac3b3c51861"
      },
      "source": [
        "numero_1 = 112\n",
        "numero_2 = 23\n",
        "\n",
        "# suma\n",
        "print(numero_1 + numero_2)\n",
        "\n",
        "# resta\n",
        "print(numero_1 - numero_2)\n",
        "\n",
        "# multiplicación\n",
        "print(numero_1 * numero_2)\n",
        "\n",
        "# división puede resultar en un numero con decimales\n",
        "print(numero_1 / numero_2)\n",
        "\n",
        "# división entera resultar en un numero entero sin decimales\n",
        "# es el cociente de una división\n",
        "print(numero_1 // numero_2)\n",
        "\n",
        "# modulo o resto de una division\n",
        "print(numero_1 % numero_2)\n",
        "\n",
        "# número al cuadrado\n",
        "print(numero_1 ** 2)"
      ],
      "execution_count": null,
      "outputs": [
        {
          "output_type": "stream",
          "text": [
            "135\n",
            "89\n",
            "2576\n",
            "4.869565217391305\n",
            "4\n",
            "20\n",
            "12544\n"
          ],
          "name": "stdout"
        }
      ]
    },
    {
      "cell_type": "code",
      "metadata": {
        "colab": {
          "base_uri": "https://localhost:8080/"
        },
        "id": "3HvcBT-VAJ6A",
        "outputId": "d474d21a-646a-40e1-bfcc-aa6c47dd908f"
      },
      "source": [
        "# convertir entero a flotante\n",
        "float(3)"
      ],
      "execution_count": null,
      "outputs": [
        {
          "output_type": "execute_result",
          "data": {
            "text/plain": [
              "3"
            ]
          },
          "metadata": {},
          "execution_count": 38
        }
      ]
    },
    {
      "cell_type": "code",
      "metadata": {
        "colab": {
          "base_uri": "https://localhost:8080/",
          "height": 37
        },
        "id": "5BmVRLqxAR0f",
        "outputId": "7f925f0f-0c80-42a3-fdf8-1e52c387aa65"
      },
      "source": [
        "# convertir entero a string\n",
        "str(3)"
      ],
      "execution_count": null,
      "outputs": [
        {
          "output_type": "execute_result",
          "data": {
            "application/vnd.google.colaboratory.intrinsic+json": {
              "type": "string"
            },
            "text/plain": [
              "'3'"
            ]
          },
          "metadata": {},
          "execution_count": 15
        }
      ]
    },
    {
      "cell_type": "code",
      "metadata": {
        "colab": {
          "base_uri": "https://localhost:8080/"
        },
        "id": "pnb7I3l7AU5F",
        "outputId": "d8cb2954-11b6-456b-af07-edcb0d664fed"
      },
      "source": [
        "# convertir entero a boolean\n",
        "bool(3)"
      ],
      "execution_count": null,
      "outputs": [
        {
          "output_type": "execute_result",
          "data": {
            "text/plain": [
              "True"
            ]
          },
          "metadata": {},
          "execution_count": 31
        }
      ]
    },
    {
      "cell_type": "code",
      "metadata": {
        "id": "1zKupH3NxAH8"
      },
      "source": [
        "# funciones para realizar operaciones"
      ],
      "execution_count": null,
      "outputs": []
    },
    {
      "cell_type": "markdown",
      "metadata": {
        "id": "i4hLglbkw9em"
      },
      "source": [
        "Existen ciertas funciones que nos facilitan operaciones matemáticas\n",
        "como ser:\n",
        "- round\n",
        "- floor\n",
        "- ceil\n",
        "- abs\n",
        "- max\n",
        "- min\n",
        "- sum\n",
        "- format"
      ]
    },
    {
      "cell_type": "markdown",
      "metadata": {
        "id": "Wb0A1LjUCC0k"
      },
      "source": [
        "## String\n",
        "ya vimos con anterioridad parte de los strings, veamos que operaciones podemos realizar con los strings"
      ]
    },
    {
      "cell_type": "code",
      "metadata": {
        "id": "SXn_HV0H_OgK",
        "colab": {
          "base_uri": "https://localhost:8080/"
        },
        "outputId": "0162e5e6-a1fe-439b-f696-65098288dd23"
      },
      "source": [
        "# asignar\n",
        "nombre = \"soy un nombre 234 $%^$%\"\n",
        "\n",
        "# imprimir \n",
        "print(nombre)"
      ],
      "execution_count": null,
      "outputs": [
        {
          "output_type": "stream",
          "text": [
            "soy un nombre 234 $%^$%\n"
          ],
          "name": "stdout"
        }
      ]
    },
    {
      "cell_type": "code",
      "metadata": {
        "id": "NA789rksNTe7"
      },
      "source": [
        "dir()"
      ],
      "execution_count": null,
      "outputs": []
    },
    {
      "cell_type": "markdown",
      "metadata": {
        "id": "BjxeogUgCfMM"
      },
      "source": [
        "(si esta no es tu primera vez programando te recomiendo ver esta parte)\n",
        "## Asignación en memoria\n",
        "\n"
      ]
    },
    {
      "cell_type": "code",
      "metadata": {
        "id": "CGxl6jzJCprF"
      },
      "source": [
        "x = \"1\""
      ],
      "execution_count": null,
      "outputs": []
    },
    {
      "cell_type": "code",
      "metadata": {
        "colab": {
          "base_uri": "https://localhost:8080/"
        },
        "id": "746JLHtK3Jh2",
        "outputId": "360360fd-4ab1-42f1-dcfa-d399d4a0ceaa"
      },
      "source": [
        "x -> lugar de memoria -> 1\n",
        "y -> lugar de memoria -> 3"
      ],
      "execution_count": null,
      "outputs": [
        {
          "output_type": "execute_result",
          "data": {
            "text/plain": [
              "1"
            ]
          },
          "metadata": {},
          "execution_count": 7
        }
      ]
    },
    {
      "cell_type": "code",
      "metadata": {
        "colab": {
          "base_uri": "https://localhost:8080/"
        },
        "id": "hI8E8jq53KJ5",
        "outputId": "b5239ce6-7a51-48a3-f503-e44ac0a84876"
      },
      "source": [
        "print(hex(id(x)))"
      ],
      "execution_count": null,
      "outputs": [
        {
          "output_type": "stream",
          "name": "stdout",
          "text": [
            "0x7ff8b2b0e3f0\n"
          ]
        }
      ]
    },
    {
      "cell_type": "code",
      "metadata": {
        "colab": {
          "base_uri": "https://localhost:8080/"
        },
        "id": "6ptdAVeh3cQd",
        "outputId": "87719fde-b179-4409-cf86-d8279583f8d4"
      },
      "source": [
        "y = \"1\"\n",
        "print(hex(id(y)))"
      ],
      "execution_count": null,
      "outputs": [
        {
          "output_type": "stream",
          "name": "stdout",
          "text": [
            "0x7ff8b2b0e3f0\n"
          ]
        }
      ]
    },
    {
      "cell_type": "code",
      "metadata": {
        "id": "-iymroIR3npa"
      },
      "source": [
        ""
      ],
      "execution_count": null,
      "outputs": []
    }
  ]
}