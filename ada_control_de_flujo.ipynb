{
  "nbformat": 4,
  "nbformat_minor": 0,
  "metadata": {
    "colab": {
      "name": "ada_control_de_flujo.ipynb",
      "provenance": [],
      "authorship_tag": "ABX9TyOvvv3RqGQu7XZAssW5GoJk",
      "include_colab_link": true
    },
    "kernelspec": {
      "name": "python3",
      "display_name": "Python 3"
    },
    "language_info": {
      "name": "python"
    }
  },
  "cells": [
    {
      "cell_type": "markdown",
      "metadata": {
        "id": "view-in-github",
        "colab_type": "text"
      },
      "source": [
        "<a href=\"https://colab.research.google.com/github/atobrien/ada_tareas_proyecto/blob/main/ada_control_de_flujo.ipynb\" target=\"_parent\"><img src=\"https://colab.research.google.com/assets/colab-badge.svg\" alt=\"Open In Colab\"/></a>"
      ]
    },
    {
      "cell_type": "code",
      "source": [
        "# Instrucciones: Si el cliente es menor de 4 años puede entrar gratis, si tiene entre 4 y 18 años debe pagar 5bs y si es mayor de 18 años, 10bs.\n",
        "edad = 0\n",
        "if edad < 4:\n",
        "  print('Puede entrar grats')\n",
        "elif edad >=4 and edad < 18:\n",
        "  print('Debe pagar 5 bs')\n",
        "else:\n",
        "  print('Debe pagar 10 bs')"
      ],
      "metadata": {
        "colab": {
          "base_uri": "https://localhost:8080/"
        },
        "id": "79vrmM6NmtPX",
        "outputId": "34008931-ddd7-4b64-adbc-5ea654e84691"
      },
      "execution_count": 10,
      "outputs": [
        {
          "output_type": "stream",
          "name": "stdout",
          "text": [
            "Puede entrar grats\n"
          ]
        }
      ]
    },
    {
      "cell_type": "code",
      "source": [
        "# Escribir un programa que pida al usuario un número entero y muestre por pantalla un triángulo rectángulo como el de más abajo, de altura que sea el número introducido.\n",
        "num= round(float(input('Cuantas estrellas quieres?: ' )))\n",
        "\n",
        "for i in range(1,round(num)+1):\n",
        "  print('*'*i, sep='\\n')"
      ],
      "metadata": {
        "colab": {
          "base_uri": "https://localhost:8080/"
        },
        "id": "PFgp46LXnOAR",
        "outputId": "4b105eff-07b2-4b7b-e1b5-147d206a71f0"
      },
      "execution_count": 38,
      "outputs": [
        {
          "output_type": "stream",
          "name": "stdout",
          "text": [
            "Cuantas estrellas quieres?: 4\n",
            "*\n",
            "**\n",
            "***\n",
            "****\n"
          ]
        }
      ]
    },
    {
      "cell_type": "code",
      "source": [
        "# 1221 - Tres Números\n",
        "# Escriba un programa que lee tres numeros enteros separados por un espacio y \n",
        "# los imprima en una linea separados por un espacio en forma ordenada de menor \n",
        "# a mayor.\n",
        "n = [30,2,12]\n",
        "\n",
        "if (n[0] > n[1] and n[0] > n[2]) and (n[1] > n[2]):\n",
        "  print(n[2],n[1],n[0])  \n",
        "elif (n[0] > n[1] and n[0] > n[2]) and (n[2] > n[1]):\n",
        "  print(n[1],n[2],n[0])  \n",
        "elif (n[1] > n[0] and n[1] > n[2]) and (n[0] > n[2]):\n",
        "  print(n[2],n[0],n[1])\n",
        "elif (n[1] > n[0] and n[1] > n[2]) and (n[2] > n[0]):\n",
        "  print(n[0],n[2],n[1]) \n",
        "elif (n[2] > n[0] and n[2] > n[1]) and (n[0] > n[1]):\n",
        "  print(n[1],n[0],n[2])\n",
        "else: \n",
        "  print(n[0],n[1],n[2])    "
      ],
      "metadata": {
        "colab": {
          "base_uri": "https://localhost:8080/"
        },
        "id": "ltBwMUMu4N_l",
        "outputId": "bc134f97-f7fd-4d80-b422-a91c90a911a0"
      },
      "execution_count": 9,
      "outputs": [
        {
          "output_type": "stream",
          "name": "stdout",
          "text": [
            "2 12 30\n"
          ]
        }
      ]
    },
    {
      "cell_type": "code",
      "source": [
        "# 1373 - Clasificación de caracteres\n",
        "# Escriba un programa que lea una letra, y diga si esta letra es minúscula, \n",
        "# mayúscula. También debe indicar si es una vocal o consonante.\n",
        "vocales = ['a','e','i','o','u']\n",
        "c = input('Escribe una letra:')\n",
        "\n",
        "if len(c) == 1 and c in vocales and c.isupper()==True:\n",
        "  print('mayuscula','vocal', sep='\\n')\n",
        "elif len(c) == 1 and c in vocales and c.isupper()!=True:\n",
        "  print('minuscula','vocal', sep='\\n')\n",
        "elif len(c) == 1 and c != vocales and c.isupper()==True:\n",
        "  print('mayuscula','consonante', sep='\\n')\n",
        "elif len(c) == 1 and c != vocales and c.isupper()!=True:\n",
        "  print('minuscula','consonante', sep='\\n')  \n",
        "elif len(c) != 1 or any(chr.isdigit() for chr in c) == True:\n",
        "  print('Solo se acepta characteres normales de un caracter, no texto, ni numeros')"
      ],
      "metadata": {
        "colab": {
          "base_uri": "https://localhost:8080/"
        },
        "id": "UCmRlQ3e4NqW",
        "outputId": "c83a7b42-7f30-4741-c88a-67ec34bf72c2"
      },
      "execution_count": 2,
      "outputs": [
        {
          "output_type": "stream",
          "name": "stdout",
          "text": [
            "Escribe una letra:10\n",
            "Solo se acepta characteres normales de un caracter, no texto, ni numeros\n"
          ]
        }
      ]
    },
    {
      "cell_type": "code",
      "source": [
        "# Pregunta: cuando debemos usar funciones con \".\" ejemplo \".isdigit\" vs \"len()\""
      ],
      "metadata": {
        "id": "gtqRVBi_4iyl"
      },
      "execution_count": 3,
      "outputs": []
    },
    {
      "cell_type": "code",
      "source": [
        "# Los años bisiestos tienen 366 dias y son aquellos que son multiplos de 4 y\n",
        "# no terminan con dos ceros o aquellos que despues de quitar los dos ceros del \n",
        "# final son divisibles por 4 (divisibles por 400). Por ejemplo 1800, y 1900 \n",
        "# no son años bisiestos, sin embargo el año 2000 si lo fue\n",
        "\n",
        "num = 1800\n",
        "\n",
        "if (num % 4 == 0 and [int(a) for a in str(num)][2:4] != [0,0]) or (num % 4 == 0 and [int(a) for a in str(num)][2:4] == [0,0] and int(''.join([str(a) for a in str(num)][0:2])) % 4 == 0):\n",
        "  print('si')\n",
        "else:\n",
        "  print('no')"
      ],
      "metadata": {
        "colab": {
          "base_uri": "https://localhost:8080/"
        },
        "id": "-lGvtjOP4OOO",
        "outputId": "17a8c588-d881-4f14-edbc-1dd305307a16"
      },
      "execution_count": 42,
      "outputs": [
        {
          "output_type": "stream",
          "name": "stdout",
          "text": [
            "no\n"
          ]
        }
      ]
    }
  ]
}