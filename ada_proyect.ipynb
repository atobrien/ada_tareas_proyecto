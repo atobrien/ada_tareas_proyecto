{
  "nbformat": 4,
  "nbformat_minor": 0,
  "metadata": {
    "colab": {
      "name": "ada_proyect.ipynb",
      "provenance": [],
      "authorship_tag": "ABX9TyOpOQ2y9ufWbukHhE9qOSG9"
    },
    "kernelspec": {
      "name": "python3",
      "display_name": "Python 3"
    },
    "language_info": {
      "name": "python"
    }
  },
  "cells": [
    {
      "cell_type": "code",
      "execution_count": 14,
      "metadata": {
        "id": "IWvHX2BDaY9W",
        "colab": {
          "base_uri": "https://localhost:8080/"
        },
        "outputId": "742eaa17-2b4f-4862-d4bb-ccd800f97ac2"
      },
      "outputs": [
        {
          "name": "stdout",
          "output_type": "stream",
          "text": [
            "Escribe tu primer nombre aqui:Anthony\n"
          ]
        }
      ],
      "source": [
        "input_nombre= input('Escribe tu primer nombre aqui:')"
      ]
    },
    {
      "cell_type": "code",
      "source": [
        "print('Bienvenido al juego',input_nombre)"
      ],
      "metadata": {
        "id": "pmTEMsfDvWO8",
        "outputId": "649b4047-2dbc-4c06-ea57-428dbba04a9c",
        "colab": {
          "base_uri": "https://localhost:8080/"
        }
      },
      "execution_count": 16,
      "outputs": [
        {
          "output_type": "stream",
          "name": "stdout",
          "text": [
            "Bienvenido al juego Anthony\n"
          ]
        }
      ]
    },
    {
      "cell_type": "markdown",
      "source": [
        "\n",
        "**Preguntas para el evaluador:**\n",
        "\n",
        "1.   Actualmente hice algo donde hay que correr el codigo linea por linea. Lo cual no tendria sentido para el usador. Cual es el paso para que es la experiencia es mas intuitivo?\n",
        "\n",
        "2.   Deberia ser una funcion/clase? para este primer paso lo hice asi, pero supongo que con el paso del tiempo seria una funccion?\n",
        "\n",
        "\n",
        "\n"
      ],
      "metadata": {
        "id": "59DTqxAzc61z"
      }
    }
  ]
}