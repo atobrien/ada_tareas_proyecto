{
  "nbformat": 4,
  "nbformat_minor": 0,
  "metadata": {
    "colab": {
      "name": "ada_control_de_flujo.ipynb",
      "provenance": [],
      "authorship_tag": "ABX9TyN4tM324W9w9zQFl0v97PqH"
    },
    "kernelspec": {
      "name": "python3",
      "display_name": "Python 3"
    },
    "language_info": {
      "name": "python"
    }
  },
  "cells": [
    {
      "cell_type": "code",
      "source": [
        "# Instrucciones: Si el cliente es menor de 4 años puede entrar gratis, si tiene entre 4 y 18 años debe pagar 5bs y si es mayor de 18 años, 10bs.\n",
        "edad = 0\n",
        "if edad < 4:\n",
        "  print('Puede entrar grats')\n",
        "elif edad >=4 and edad < 18:\n",
        "  print('Debe pagar 5 bs')\n",
        "else:\n",
        "  print('Debe pagar 10 bs')"
      ],
      "metadata": {
        "colab": {
          "base_uri": "https://localhost:8080/"
        },
        "id": "79vrmM6NmtPX",
        "outputId": "34008931-ddd7-4b64-adbc-5ea654e84691"
      },
      "execution_count": 10,
      "outputs": [
        {
          "output_type": "stream",
          "name": "stdout",
          "text": [
            "Puede entrar grats\n"
          ]
        }
      ]
    },
    {
      "cell_type": "code",
      "source": [
        "# Escribir un programa que pida al usuario un número entero y muestre por pantalla un triángulo rectángulo como el de más abajo, de altura que sea el número introducido.\n",
        "num= round(float(input('Cuantas estrellas quieres?: ' )))\n",
        "\n",
        "for i in range(1,round(num)+1):\n",
        "  print('*'*i, sep='\\n')"
      ],
      "metadata": {
        "colab": {
          "base_uri": "https://localhost:8080/"
        },
        "id": "PFgp46LXnOAR",
        "outputId": "4b105eff-07b2-4b7b-e1b5-147d206a71f0"
      },
      "execution_count": 38,
      "outputs": [
        {
          "output_type": "stream",
          "name": "stdout",
          "text": [
            "Cuantas estrellas quieres?: 4\n",
            "*\n",
            "**\n",
            "***\n",
            "****\n"
          ]
        }
      ]
    }
  ]
}
