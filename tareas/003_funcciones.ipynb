{
  "nbformat": 4,
  "nbformat_minor": 0,
  "metadata": {
    "colab": {
      "name": "ADA_funcciones.ipynb",
      "provenance": [],
      "authorship_tag": "ABX9TyMkczdrFxR30/gFwP8Xrel5",
      "include_colab_link": true
    },
    "kernelspec": {
      "name": "python3",
      "display_name": "Python 3"
    },
    "language_info": {
      "name": "python"
    }
  },
  "cells": [
    {
      "cell_type": "markdown",
      "metadata": {
        "id": "view-in-github",
        "colab_type": "text"
      },
      "source": [
        "<a href=\"https://colab.research.google.com/github/atobrien/ada_tareas_proyecto/blob/main/ADA_funcciones.ipynb\" target=\"_parent\"><img src=\"https://colab.research.google.com/assets/colab-badge.svg\" alt=\"Open In Colab\"/></a>"
      ]
    },
    {
      "cell_type": "code",
      "execution_count": null,
      "metadata": {
        "id": "yKSfrXreaLvo"
      },
      "outputs": [],
      "source": [
        "\"\"\"\n",
        "Entrada\n",
        "La entrada consiste de varias lineas. La primera linea contiene un numero N \n",
        "que indica cuantas fechas hay que verificar. Luego siguen N lineas con las \n",
        "fechas a verificar. Cada línea contiene tres números enteros que representan el \n",
        "día, mes y año respectivamente.\n",
        "\n",
        "salida\n",
        "En la salida imprima \"Fecha correcta\" si la fecha es correcta, o por el\n",
        "contrario \"Fecha incorrecta\"\n",
        "\n",
        "Para poder leer el día, mes y año en una sóla línea como se pide, \n",
        "usar esta línea de código\n",
        "\n",
        "d, m, a = list(map(int, input().split()))\n",
        "\n",
        "la variable d contendrá el día, m el mes y a el año.\n",
        "\"\"\""
      ]
    },
    {
      "cell_type": "code",
      "source": [
        "def revisar_fecha(numero_de_fechas=1):\n",
        "  for i in range(1,numero_de_fechas+1):\n",
        "    d, m, a = list(map(int, input().split()))\n",
        "    #leap = lambda x: 1 if  (a % 4 == 0 and a % 100 != 0) or (a % 4 == 0 and a % 100 == 0 and a % 400 == 0) else 0\n",
        "    #leap = lambda x: 0 if (a % 4 != 0) or (a % 4 == 0 and a % 100 == 0) or (a % 4 == 0 and a % 100 == 0 and a % 400 != 0) else 1\n",
        "    if (a % 4 == 0 and a % 100 != 0) or (a % 4 == 0 and a % 100 == 0 and a % 400 == 0):\n",
        "      leap = 1\n",
        "    else:\n",
        "      leap = 0\n",
        "    # 30 11 1971\n",
        "    # 29 2 2001\n",
        "    if  leap == 0 and m == 2 and (d >= 29):\n",
        "      print('Fecha incorrecta')\n",
        "    elif  (m in [4,6,9,11]) and (d > 30):\n",
        "      print('Fecha incorrecta')\n",
        "    elif (m not in [2,4,6,9,11]) and (d > 31):\n",
        "      print('Fecha incorrecta')\n",
        "    elif d < 1 or m > 12 or m < 1:\n",
        "      print('Fecha incorrecta')\n",
        "    else:    \n",
        "      print('Fecha correcta')"
      ],
      "metadata": {
        "id": "kUY0Tj0Obdbt"
      },
      "execution_count": null,
      "outputs": []
    },
    {
      "cell_type": "code",
      "source": [
        "revisar_fecha(2)"
      ],
      "metadata": {
        "colab": {
          "base_uri": "https://localhost:8080/"
        },
        "id": "KP_P9dvFlwtq",
        "outputId": "2f169205-ca42-4273-eb66-1c2b3417d034"
      },
      "execution_count": null,
      "outputs": [
        {
          "output_type": "stream",
          "name": "stdout",
          "text": [
            "30 11 1971\n",
            "Fecha correcta\n",
            "29 2 2001\n",
            "Fecha incorrecta\n"
          ]
        }
      ]
    },
    {
      "cell_type": "code",
      "source": [
        ""
      ],
      "metadata": {
        "id": "hzJlt7Rdoq7v"
      },
      "execution_count": null,
      "outputs": []
    }
  ]
}
