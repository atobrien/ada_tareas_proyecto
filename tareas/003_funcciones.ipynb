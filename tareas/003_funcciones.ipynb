{
  "nbformat": 4,
  "nbformat_minor": 0,
  "metadata": {
    "colab": {
      "name": "ADA_funcciones.ipynb",
      "provenance": [],
      "authorship_tag": "ABX9TyN549++1A84p+b8ACTO7VtP",
      "include_colab_link": true
    },
    "kernelspec": {
      "name": "python3",
      "display_name": "Python 3"
    },
    "language_info": {
      "name": "python"
    }
  },
  "cells": [
    {
      "cell_type": "markdown",
      "metadata": {
        "id": "view-in-github",
        "colab_type": "text"
      },
      "source": [
        "<a href=\"https://colab.research.google.com/github/atobrien/ada_tareas_proyecto/blob/main/ADA_funcciones.ipynb\" target=\"_parent\"><img src=\"https://colab.research.google.com/assets/colab-badge.svg\" alt=\"Open In Colab\"/></a>"
      ]
    },
    {
      "cell_type": "code",
      "execution_count": null,
      "metadata": {
        "id": "yKSfrXreaLvo"
      },
      "outputs": [],
      "source": [
        "\"\"\"\n",
        "Entrada\n",
        "La entrada consiste de varias lineas. La primera linea contiene un numero N \n",
        "que indica cuantas fechas hay que verificar. Luego siguen N lineas con las \n",
        "fechas a verificar. Cada línea contiene tres números enteros que representan el \n",
        "día, mes y año respectivamente.\n",
        "\n",
        "salida\n",
        "En la salida imprima \"Fecha correcta\" si la fecha es correcta, o por el\n",
        "contrario \"Fecha incorrecta\"\n",
        "\n",
        "Para poder leer el día, mes y año en una sóla línea como se pide, \n",
        "usar esta línea de código\n",
        "\n",
        "d, m, a = list(map(int, input().split()))\n",
        "\n",
        "la variable d contendrá el día, m el mes y a el año.\n",
        "\"\"\""
      ]
    },
    {
      "cell_type": "code",
      "source": [
        "def revisar_fecha(numero_de_fechas=1):\n",
        "  for i in range(1,numero_de_fechas+1):\n",
        "    d, m, a = list(map(int, input().split()))\n",
        "    #leap = lambda a: 1 if  (a % 4 == 0 and a % 100 != 0) or (a % 4 == 0 and a % 100 == 0 and a % 400 == 0) else 0\n",
        "    #leap = lambda a: 0 if (a % 4 != 0) or (a % 4 == 0 and a % 100 == 0) or (a % 4 == 0 and a % 100 == 0 and a % 400 != 0) else 1\n",
        "    if (a % 4 == 0 and a % 100 != 0) or (a % 4 == 0 and a % 100 == 0 and a % 400 == 0):\n",
        "      leap = 1\n",
        "    else:\n",
        "      leap = 0\n",
        "    # 30 11 1971\n",
        "    # 29 2 2001\n",
        "    if  leap == 0 and m == 2 and (d >= 29):\n",
        "      print('Fecha incorrecta')\n",
        "    elif  (m in [4,6,9,11]) and (d > 30):\n",
        "      print('Fecha incorrecta')\n",
        "    elif (m not in [2,4,6,9,11]) and (d > 31):\n",
        "      print('Fecha incorrecta')\n",
        "    elif d < 1 or m > 12 or m < 1:\n",
        "      print('Fecha incorrecta')\n",
        "    else:    \n",
        "      print('Fecha correcta')"
      ],
      "metadata": {
        "id": "kUY0Tj0Obdbt"
      },
      "execution_count": null,
      "outputs": []
    },
    {
      "cell_type": "code",
      "source": [
        "revisar_fecha(2)"
      ],
      "metadata": {
        "colab": {
          "base_uri": "https://localhost:8080/"
        },
        "id": "KP_P9dvFlwtq",
        "outputId": "2f169205-ca42-4273-eb66-1c2b3417d034"
      },
      "execution_count": null,
      "outputs": [
        {
          "output_type": "stream",
          "name": "stdout",
          "text": [
            "30 11 1971\n",
            "Fecha correcta\n",
            "29 2 2001\n",
            "Fecha incorrecta\n"
          ]
        }
      ]
    },
    {
      "cell_type": "code",
      "source": [
        "\"\"\"\n",
        "Ejercicios\n",
        "\n",
        "Con los siguientes ejercicios podrás poner en practica lo aprendido intenta \n",
        "resolverlos y atenderemos las dudas con respecto a estos ejercicios en una \n",
        "sesión en vivo 😉\n",
        "\n",
        "    Crear una función que verifique que una cadena está contenida en otra (no se)\n",
        "\n",
        "    Reescribir el problema de los años bisiestos como una función para \n",
        "    reutilizarse dentro de un módulo (ya)\n",
        "\n",
        "    Escribir una función factorial y utilizarla para calcular combinaciones \n",
        "    de objetos n!/((n-k)!k!) (no lo pude lograr- deje preguntas)\n",
        "\n",
        "    Utilizar la función de año bisiesto para este ejercicio (ya esta hecho \n",
        "    arriba practicamente entonces lo dejare asi)\n",
        "\"\"\""
      ],
      "metadata": {
        "id": "hzJlt7Rdoq7v"
      },
      "execution_count": null,
      "outputs": []
    },
    {
      "cell_type": "code",
      "source": [
        "# Los años bisiestos tienen 366 dias y son aquellos que son multiplos de 4 y\n",
        "# no terminan con dos ceros o aquellos que despues de quitar los dos ceros del \n",
        "# final son divisibles por 4 (divisibles por 400). Por ejemplo 1800, y 1900 \n",
        "# no son años bisiestos, sin embargo el año 2000 si lo fue\n",
        "\n",
        "def revisar_bisiesto(a=1800):\n",
        "    if (a % 4 == 0 and a % 100 != 0) or (a % 4 == 0 and a % 100 == 0 and a % 400 == 0):\n",
        "      leap = 'Es un año bisiesto'\n",
        "    else:\n",
        "      leap = 'No es un año bisiesto'\n",
        "    print(leap)\n",
        "\n"
      ],
      "metadata": {
        "id": "X-PdMrIAnuFV"
      },
      "execution_count": null,
      "outputs": []
    },
    {
      "cell_type": "code",
      "source": [
        "revisar_bisiesto(a=2024)"
      ],
      "metadata": {
        "colab": {
          "base_uri": "https://localhost:8080/"
        },
        "id": "dz0mqSA5rvDs",
        "outputId": "da33dbd2-7c6b-4e0e-fd97-44af29221874"
      },
      "execution_count": null,
      "outputs": [
        {
          "output_type": "stream",
          "name": "stdout",
          "text": [
            "Es un año bisiesto\n"
          ]
        }
      ]
    },
    {
      "cell_type": "code",
      "source": [
        "# Escribir una función factorial y utilizarla para calcular combinaciones \n",
        "# de objetos n!/((n-k)!k!)\n",
        "\n",
        "#def factorial(n=0):\n",
        "#  res = n*factorial(n-1)\n",
        "#  print(res)\n",
        "\n",
        "# Este no es mi solucion no pude hacerlo sin tener stackoverflow \n",
        "# consegui la funccion aqui https://www.geeksforgeeks.org/program-check-date-valid-not/\n",
        "# pero no entiendo xq me esta generando el error con \n",
        "\n",
        "#def factorial(n):\n",
        "#    return n * factorial(n-1)\n",
        "\n",
        "\"\"\"\n",
        "---------------------------------------------------------------------------\n",
        "\n",
        "RecursionError                            Traceback (most recent call last)\n",
        "\n",
        "<ipython-input-49-2907def31b91> in <module>()\n",
        "      1 def factorial(n):\n",
        "      2     return n * factorial(n-1)\n",
        "----> 3 factorial(n=2)\n",
        "\n",
        "1 frames\n",
        "\n",
        "... last 1 frames repeated, from the frame below ...\n",
        "\n",
        "<ipython-input-49-2907def31b91> in factorial(n)\n",
        "      1 def factorial(n):\n",
        "----> 2     return n * factorial(n-1)\n",
        "      3 factorial(n=2)\n",
        "\n",
        "RecursionError: maximum recursion depth exceeded\n",
        "\"\"\"\n",
        "\n",
        "def factorial(n):\n",
        "    if n == 0:\n",
        "        return 1\n",
        "    return n * factorial(n-1)\n",
        "\n",
        "num = 5;\n",
        "factorial(num)"
      ],
      "metadata": {
        "colab": {
          "base_uri": "https://localhost:8080/"
        },
        "id": "Kh4rgYDTsIH_",
        "outputId": "99aa968c-4ff1-440d-c88e-a246d5f89242"
      },
      "execution_count": null,
      "outputs": [
        {
          "output_type": "execute_result",
          "data": {
            "text/plain": [
              "120"
            ]
          },
          "metadata": {},
          "execution_count": 48
        }
      ]
    },
    {
      "cell_type": "code",
      "source": [
        ""
      ],
      "metadata": {
        "id": "M_s71MaBxD7f"
      },
      "execution_count": null,
      "outputs": []
    }
  ]
}
